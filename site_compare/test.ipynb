{
 "cells": [
  {
   "cell_type": "code",
   "execution_count": 8,
   "metadata": {},
   "outputs": [],
   "source": [
    "import openpyxl\n",
    "from openpyxl.drawing.image import Image\n",
    "\n",
    "def create_excel_file(data, excel_file_path):\n",
    "    # 新しいワークブックを作成\n",
    "    workbook = openpyxl.Workbook()\n",
    "    \n",
    "    # データを追加\n",
    "    for idx, row_data in enumerate(data, 1):\n",
    "        # 新しいシートを作成（最初のデフォルトのシートは削除）\n",
    "        if idx == 1:\n",
    "            workbook.remove(workbook.active)\n",
    "        sheet = workbook.create_sheet(title=f\"Page {idx}\")\n",
    "        \n",
    "        # ヘッダーを追加\n",
    "        headers = [\"変更前の画像\", \"変更後の画像\", \"URL\", \"コメント\"]\n",
    "        for col_num, header in enumerate(headers, 1):\n",
    "            cell = sheet.cell(row=1, column=col_num, value=header)\n",
    "        \n",
    "        # 画像を追加\n",
    "        for col_num in range(2):  # 最初の二つの列は画像\n",
    "            img_path = row_data[col_num]\n",
    "            img = Image(img_path)\n",
    "            # Excelのセルに画像を挿入\n",
    "            cell = sheet.cell(row=2, column=col_num + 1)\n",
    "            sheet.add_image(img, cell.coordinate)\n",
    "        \n",
    "        # URLとコメントを追加\n",
    "        sheet.cell(row=2, column=3, value=row_data[2])  # URL\n",
    "        sheet.cell(row=2, column=4, value=row_data[3])  # コメント\n",
    "    \n",
    "    # Excelファイルを保存\n",
    "    workbook.save(excel_file_path)\n",
    "\n",
    "# 使い方の例\n",
    "data = [\n",
    "    ['./test1.png', './test_result.png', 'http://example.com/1', 'Comment 1'],\n",
    "    [\"./test3.png\",\"./test_result2.png\",\"http://example.com/2\",'Comment 2']\n",
    "    # ...\n",
    "]\n",
    "\n",
    "excel_file_path = 'output.xlsx'\n",
    "\n",
    "create_excel_file(data, excel_file_path)\n"
   ]
  },
  {
   "cell_type": "code",
   "execution_count": 6,
   "metadata": {},
   "outputs": [],
   "source": [
    "from compare_image import compare_images\n",
    "\n",
    "compare_images(\"./test3.png\",\"./test4.png\",\"./test_result2.png\")"
   ]
  }
 ],
 "metadata": {
  "kernelspec": {
   "display_name": "base",
   "language": "python",
   "name": "python3"
  },
  "language_info": {
   "codemirror_mode": {
    "name": "ipython",
    "version": 3
   },
   "file_extension": ".py",
   "mimetype": "text/x-python",
   "name": "python",
   "nbconvert_exporter": "python",
   "pygments_lexer": "ipython3",
   "version": "3.11.5"
  },
  "orig_nbformat": 4
 },
 "nbformat": 4,
 "nbformat_minor": 2
}
